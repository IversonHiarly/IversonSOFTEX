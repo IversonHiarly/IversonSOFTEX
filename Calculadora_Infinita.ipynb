{
  "nbformat": 4,
  "nbformat_minor": 0,
  "metadata": {
    "colab": {
      "provenance": [],
      "authorship_tag": "ABX9TyPpqfuWG/AnstRqrZUQba+J",
      "include_colab_link": true
    },
    "kernelspec": {
      "name": "python3",
      "display_name": "Python 3"
    },
    "language_info": {
      "name": "python"
    }
  },
  "cells": [
    {
      "cell_type": "markdown",
      "metadata": {
        "id": "view-in-github",
        "colab_type": "text"
      },
      "source": [
        "<a href=\"https://colab.research.google.com/github/IversonHiarly/IversonSOFTEX/blob/main/Calculadora_Infinita.ipynb\" target=\"_parent\"><img src=\"https://colab.research.google.com/assets/colab-badge.svg\" alt=\"Open In Colab\"/></a>"
      ]
    },
    {
      "cell_type": "code",
      "source": [
        "#Calculadora Infinita\n",
        "\n",
        "print ('Calculadora')\n",
        "print ('Informe que tipo de cálculo quer fazer:')\n",
        "def soma():\n",
        "    x = float(input(\"Informe um numero: \"))\n",
        "    y = float(input(\"Informe outro número: \"))\n",
        "    return print(\" O Resultado da Soma é: \",x+y)\n",
        "\n",
        "def subtracao():\n",
        "    x = float(input(\"Informe um numero: \"))\n",
        "    y = float(input(\"Informe outro numero: \"))\n",
        "    return print(\" O Resultado da Subtração é: \",x-y)\n",
        "\n",
        "def multiplicacao():\n",
        "    x = float(input(\"Informe um numero: \"))\n",
        "    y = float(input(\"Informe outro número: \"))\n",
        "    return print(\" O Resultado da Multiplicação é: \",x*y)\n",
        "\n",
        "def divisao():\n",
        "    x = float(input(\"Informe um numero: \"))\n",
        "    y = float(input(\"Informe outro número: \"))\n",
        "    return print(\" O Resultado da Divisão é: \",x/y)\n",
        "def sair():\n",
        "   StopIteration\n",
        "   print(\"O Usuário saiu da calculadora\")\n",
        "opcao=1\n",
        "while opcao:\n",
        "    print(\"1. Somar\")\n",
        "    print(\"2. Subtrair\")\n",
        "    print(\"3. Multiplicação\")\n",
        "    print(\"4. Divisão \")\n",
        "    print('0. sair')\n",
        "    opcao = int(input(\"Opção: \"))\n",
        "\n",
        "    if(opcao==1):\n",
        "        soma()\n",
        "    if(opcao==2):\n",
        "        subtracao()\n",
        "    if(opcao==3):\n",
        "        multiplicacao()\n",
        "    if(opcao==4):\n",
        "        divisao()\n",
        "    if (opcao==0):\n",
        "        sair()\n",
        "    if (opcao  <0) or (opcao  >4):\n",
        "        print ('Essa opção não existe' '\\nEscolha uma opção de 0 até 4:')"
      ],
      "metadata": {
        "colab": {
          "base_uri": "https://localhost:8080/"
        },
        "id": "GyezyGtC_lS2",
        "outputId": "8f991c9f-b977-4442-ba3e-0145052e3879"
      },
      "execution_count": 9,
      "outputs": [
        {
          "output_type": "stream",
          "name": "stdout",
          "text": [
            "Calculadora\n",
            "Informe que tipo de cálculo quer fazer:\n",
            "1. Somar\n",
            "2. Subtrair\n",
            "3. Multiplicação\n",
            "4. Divisão \n",
            "0. sair\n",
            "Opção: 3\n",
            "Informe um numero: 92\n",
            "Informe outro número: 5\n",
            " O Resultado da Multiplicação é:  460.0\n",
            "1. Somar\n",
            "2. Subtrair\n",
            "3. Multiplicação\n",
            "4. Divisão \n",
            "0. sair\n",
            "Opção: 0\n",
            "O Usuário saiu da calculadora\n"
          ]
        }
      ]
    }
  ]
}