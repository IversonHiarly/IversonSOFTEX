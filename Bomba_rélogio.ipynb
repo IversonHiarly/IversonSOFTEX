{
  "nbformat": 4,
  "nbformat_minor": 0,
  "metadata": {
    "colab": {
      "provenance": [],
      "authorship_tag": "ABX9TyMnoGomArHdOnnHE+CIimpG",
      "include_colab_link": true
    },
    "kernelspec": {
      "name": "python3",
      "display_name": "Python 3"
    },
    "language_info": {
      "name": "python"
    }
  },
  "cells": [
    {
      "cell_type": "markdown",
      "metadata": {
        "id": "view-in-github",
        "colab_type": "text"
      },
      "source": [
        "<a href=\"https://colab.research.google.com/github/IversonHiarly/IversonSOFTEX/blob/main/Bomba_r%C3%A9logio.ipynb\" target=\"_parent\"><img src=\"https://colab.research.google.com/assets/colab-badge.svg\" alt=\"Open In Colab\"/></a>"
      ]
    },
    {
      "cell_type": "code",
      "execution_count": 19,
      "metadata": {
        "colab": {
          "base_uri": "https://localhost:8080/"
        },
        "id": "7uCPqGOc2mOg",
        "outputId": "2a7f349c-36e3-42ae-c4a3-e9102728c03c"
      },
      "outputs": [
        {
          "output_type": "stream",
          "name": "stdout",
          "text": [
            "Iniciando contagem regressiva\n",
            "15\n",
            "14\n",
            "13\n",
            "12\n",
            "11\n",
            "10\n",
            "9\n",
            "8\n",
            "7\n",
            "6\n",
            "5\n",
            "4\n",
            "3\n",
            "2\n",
            "1\n",
            "BOOOMMMMM!!!!\n"
          ]
        }
      ],
      "source": [
        "import time\n",
        "ti = 0\n",
        "tf = 15\n",
        "print(\"Iniciando contagem regressiva\")\n",
        "for i in range(tf, ti, -1):\n",
        "  print(i)\n",
        "  time.sleep(1)\n",
        "print(\"BOOOMMMMM!!!!\")"
      ]
    }
  ]
}