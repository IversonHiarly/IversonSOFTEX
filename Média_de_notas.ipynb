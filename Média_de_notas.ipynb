{
  "nbformat": 4,
  "nbformat_minor": 0,
  "metadata": {
    "colab": {
      "provenance": [],
      "authorship_tag": "ABX9TyPPuZMtXZG7p7atIDrx3c4q",
      "include_colab_link": true
    },
    "kernelspec": {
      "name": "python3",
      "display_name": "Python 3"
    },
    "language_info": {
      "name": "python"
    }
  },
  "cells": [
    {
      "cell_type": "markdown",
      "metadata": {
        "id": "view-in-github",
        "colab_type": "text"
      },
      "source": [
        "<a href=\"https://colab.research.google.com/github/IversonHiarly/IversonSOFTEX/blob/main/M%C3%A9dia_de_notas.ipynb\" target=\"_parent\"><img src=\"https://colab.research.google.com/assets/colab-badge.svg\" alt=\"Open In Colab\"/></a>"
      ]
    },
    {
      "cell_type": "code",
      "execution_count": null,
      "metadata": {
        "colab": {
          "base_uri": "https://localhost:8080/"
        },
        "id": "XB3zaeskZ2H7",
        "outputId": "79abbc8c-a896-41c9-e409-c6b48358a302"
      },
      "outputs": [
        {
          "output_type": "stream",
          "name": "stdout",
          "text": [
            "Digite seu nome:  Lucas\n",
            "Primeira nota do aluno:  9\n",
            "Segunda nota do aluno:  9\n",
            "Número de faltas:   3\n",
            "A média entre 9.0 e 9.0 é igual a 9.0\n",
            "b'L' Aprovado\n"
          ]
        }
      ],
      "source": [
        "from ctypes import string_at\n",
        "\n",
        "nome = string_at(input(\"Digite seu nome:  \"))\n",
        "n1 = float(input(\"Primeira nota do aluno:  \"))\n",
        "n2 = float(input(\"Segunda nota do aluno:  \"))\n",
        "falta = float(input(\"Número de faltas:   \"))\n",
        "média = (n1 + n2) / 2\n",
        "print (\"A média entre {} e {} é igual a {}\".format (n1, n2, média))\n",
        "\n",
        "if média < 7:\n",
        "  print(\"Você está reprovado\")\n",
        "if falta > 3:\n",
        "  print(\"Você está REPROVADO\")\n",
        "else :\n",
        "  print(nome , \"Aprovado\")"
      ]
    },
    {
      "cell_type": "code",
      "source": [],
      "metadata": {
        "id": "PVRaJWMmUo-m"
      },
      "execution_count": null,
      "outputs": []
    },
    {
      "cell_type": "code",
      "source": [],
      "metadata": {
        "id": "Z8S0gQpmUpVi"
      },
      "execution_count": null,
      "outputs": []
    }
  ]
}