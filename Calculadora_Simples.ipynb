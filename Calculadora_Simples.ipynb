{
  "nbformat": 4,
  "nbformat_minor": 0,
  "metadata": {
    "colab": {
      "provenance": [],
      "authorship_tag": "ABX9TyMwqmJgKCjeRMeaqhS9EcAq",
      "include_colab_link": true
    },
    "kernelspec": {
      "name": "python3",
      "display_name": "Python 3"
    },
    "language_info": {
      "name": "python"
    }
  },
  "cells": [
    {
      "cell_type": "markdown",
      "metadata": {
        "id": "view-in-github",
        "colab_type": "text"
      },
      "source": [
        "<a href=\"https://colab.research.google.com/github/IversonHiarly/IversonSOFTEX/blob/main/Calculadora_Simples.ipynb\" target=\"_parent\"><img src=\"https://colab.research.google.com/assets/colab-badge.svg\" alt=\"Open In Colab\"/></a>"
      ]
    },
    {
      "cell_type": "code",
      "source": [
        "#calculadora simples\n",
        "\n",
        "n1 = float (input(\"Coloque o Primeiro número: \"))\n",
        "n2 = float (input(\"Coloque o Segundo número: \"))\n",
        "print(\"1 - Soma\")\n",
        "print(\"2 - Subtração\")\n",
        "print(\"3 - Multiplicação\")\n",
        "print(\"4 - Divisão\")\n",
        "ope = int (input(\"Informe qual a operação: \"))\n",
        "\n",
        "def calculadora(n1, n2, ope) :\n",
        "    if (ope == 1)   : return n1 + n2\n",
        "    elif (ope == 2) : return n1 - n2\n",
        "    elif (ope == 3) : return n1 * n2\n",
        "    elif (ope == 4) : return n1 / n2\n",
        "    while (ope >4) or (ope < 0):\n",
        "        print (input('Digite um número de 1 até 4'))\n",
        "        break\n",
        "        \n",
        "resultado = calculadora(n1, n2, ope)\n",
        "print(\"O resultado foi:\", resultado)"
      ],
      "metadata": {
        "colab": {
          "base_uri": "https://localhost:8080/"
        },
        "id": "fMWkhEdQXsY3",
        "outputId": "d6181224-f8e8-4732-ce9c-1c0b98903d69"
      },
      "execution_count": 6,
      "outputs": [
        {
          "output_type": "stream",
          "name": "stdout",
          "text": [
            "Coloque o Primeiro número: 90\n",
            "Coloque o Segundo número: 8\n",
            "1 - Soma\n",
            "2 - Subtração\n",
            "3 - Multiplicação\n",
            "4 - Divisão\n",
            "Informe qual a operação: 3\n",
            "O resultado foi: 720.0\n"
          ]
        }
      ]
    }
  ]
}