{
  "nbformat": 4,
  "nbformat_minor": 0,
  "metadata": {
    "colab": {
      "provenance": [],
      "authorship_tag": "ABX9TyNGgU3d9pgXI8yT21OhhrrP",
      "include_colab_link": true
    },
    "kernelspec": {
      "name": "python3",
      "display_name": "Python 3"
    },
    "language_info": {
      "name": "python"
    }
  },
  "cells": [
    {
      "cell_type": "markdown",
      "metadata": {
        "id": "view-in-github",
        "colab_type": "text"
      },
      "source": [
        "<a href=\"https://colab.research.google.com/github/IversonHiarly/IversonSOFTEX/blob/main/insertion_sort.ipynb\" target=\"_parent\"><img src=\"https://colab.research.google.com/assets/colab-badge.svg\" alt=\"Open In Colab\"/></a>"
      ]
    },
    {
      "cell_type": "code",
      "execution_count": 1,
      "metadata": {
        "colab": {
          "base_uri": "https://localhost:8080/"
        },
        "id": "hzPwExnzXfBY",
        "outputId": "eb1876e6-de69-49d1-fc25-a98f68ef95ef"
      },
      "outputs": [
        {
          "output_type": "stream",
          "name": "stdout",
          "text": [
            "Array em ordem crescente\n",
            "[1, 3, 5, 7, 9, 11, 13, 15, 17, 19, 21, 23, 25, 27, 29, 31, 33, 35, 37, 39, 45, 47, 49, 51, 53, 55, 61, 65, 67, 69]\n"
          ]
        }
      ],
      "source": [
        "#insertion sort\n",
        "\n",
        "import random\n",
        "\n",
        "def insertionsort (array):\n",
        "    for step in range(1, len(array)):\n",
        "        key = array[step]\n",
        "        j = step - 1\n",
        "        \n",
        "        \n",
        "        while j >= 0 and key < array[j]:\n",
        "            array [j + 1] = array[j]\n",
        "            j = j - 1\n",
        "            \n",
        "        array[j + 1] = key\n",
        "        \n",
        "data = [29, 1, 5, 7, 21, 25, 17, 27, 13, 15, 9, 23, 11, 3, 19, 31, 37, 33, 47, 35, 45, 49, 39, 55, 65, 67, 51, 69, 61, 53 ]\n",
        "insertionsort(data)\n",
        "print ('Array em ordem crescente')\n",
        "print (data)"
      ]
    }
  ]
}