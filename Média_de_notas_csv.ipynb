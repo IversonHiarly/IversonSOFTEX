{
  "nbformat": 4,
  "nbformat_minor": 0,
  "metadata": {
    "colab": {
      "provenance": [],
      "authorship_tag": "ABX9TyP+tidfexYyvYrZLI3+EYHU",
      "include_colab_link": true
    },
    "kernelspec": {
      "name": "python3",
      "display_name": "Python 3"
    },
    "language_info": {
      "name": "python"
    }
  },
  "cells": [
    {
      "cell_type": "markdown",
      "metadata": {
        "id": "view-in-github",
        "colab_type": "text"
      },
      "source": [
        "<a href=\"https://colab.research.google.com/github/IversonHiarly/IversonSOFTEX/blob/main/M%C3%A9dia_de_notas_csv.ipynb\" target=\"_parent\"><img src=\"https://colab.research.google.com/assets/colab-badge.svg\" alt=\"Open In Colab\"/></a>"
      ]
    },
    {
      "cell_type": "code",
      "source": [
        "import pandas as pd \n",
        "  \n",
        "df = pd.read_csv (\"notas_alunos.csv.csv\") \n",
        "  df = df.set_index ('Aluno') \n",
        "  media_aluno = ((df[\"Notas_1\"] + df[\"Notas_2\"]) / 2) \n",
        "  df['Media_Aluno'] = Media_Aluno \n",
        "  df.loc[df['Media_Aluno'] < 7, \"SituaC'C#o\"] = 'Reprovado' \n",
        "  df.loc[df['Media_Aluno'] >= 7, \"SituaC'C#o\"] = 'Aprovado' \n",
        "  df.loc[df['Faltas'] >= 5, \"SituaC'C#o\"] = 'Reprovado' \n",
        "  Mais_Faltas = df['Faltas'].max () \n",
        "  Soma_geral = df['Media_Aluno'].sum () \n",
        "  Maior_media = df['Media_Aluno'].max () \n",
        "print (f 'O maior numero de faltas foi: {Mais_Faltas}') \n",
        "print (f 'A media geral foi: {Soma_geral/4}') \n",
        "print (f 'A maior media de todas foi: {Maior_media}') \n",
        "df.to_csv ('alunos_situacao.csv')"
      ],
      "metadata": {
        "id": "6yRJJTSYrFfY",
        "outputId": "c1c23ac5-0b03-4e53-fe5e-1206af0d222a",
        "colab": {
          "base_uri": "https://localhost:8080/",
          "height": 130
        }
      },
      "execution_count": 7,
      "outputs": [
        {
          "output_type": "error",
          "ename": "IndentationError",
          "evalue": "ignored",
          "traceback": [
            "\u001b[0;36m  File \u001b[0;32m\"<ipython-input-7-8e2cc81ceba3>\"\u001b[0;36m, line \u001b[0;32m4\u001b[0m\n\u001b[0;31m    df = df.set_index ('Aluno')\u001b[0m\n\u001b[0m    ^\u001b[0m\n\u001b[0;31mIndentationError\u001b[0m\u001b[0;31m:\u001b[0m unexpected indent\n"
          ]
        }
      ]
    }
  ]
}