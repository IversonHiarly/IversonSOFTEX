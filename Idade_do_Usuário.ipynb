{
  "nbformat": 4,
  "nbformat_minor": 0,
  "metadata": {
    "colab": {
      "provenance": [],
      "authorship_tag": "ABX9TyOeSS1+7fAk1UTNfZL6PfCL",
      "include_colab_link": true
    },
    "kernelspec": {
      "name": "python3",
      "display_name": "Python 3"
    },
    "language_info": {
      "name": "python"
    }
  },
  "cells": [
    {
      "cell_type": "markdown",
      "metadata": {
        "id": "view-in-github",
        "colab_type": "text"
      },
      "source": [
        "<a href=\"https://colab.research.google.com/github/IversonHiarly/IversonSOFTEX/blob/main/Idade_do_Usu%C3%A1rio.ipynb\" target=\"_parent\"><img src=\"https://colab.research.google.com/assets/colab-badge.svg\" alt=\"Open In Colab\"/></a>"
      ]
    },
    {
      "cell_type": "code",
      "source": [
        "#Idade do Usuário\n",
        "\n",
        "stop = False\n",
        "while stop == False:\n",
        "    nome = input(\"Digite o seu Nome:\")\n",
        "    print(\"Digite o ano de seu nascimente:\")\n",
        "    try:\n",
        "        ano = int(input())\n",
        "        if ano >= 1922 and ano <=2021:\n",
        "            stop = True\n",
        "            print(nome,\" você tem ou vai completar:\", 2022-ano,'anos')\n",
        "       \n",
        "    except:\n",
        "        print(\"Você Digitou um valor inválido, Por favor insira o ano de seu nascimento corretamente\")"
      ],
      "metadata": {
        "colab": {
          "base_uri": "https://localhost:8080/"
        },
        "id": "1Rnbd9axdbMJ",
        "outputId": "9d503a80-e11e-4178-ca25-082a26abed41"
      },
      "execution_count": 30,
      "outputs": [
        {
          "output_type": "stream",
          "name": "stdout",
          "text": [
            "Digite o seu Nome:Iverson\n",
            "Digite o ano de seu nascimente:\n",
            "2005\n",
            "Iverson  você tem ou vai completar: 17 anos\n"
          ]
        }
      ]
    }
  ]
}