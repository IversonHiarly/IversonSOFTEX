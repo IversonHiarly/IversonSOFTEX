{
  "nbformat": 4,
  "nbformat_minor": 0,
  "metadata": {
    "colab": {
      "provenance": [],
      "authorship_tag": "ABX9TyOFwF6SQVb1Rq7J/6VKV4iN",
      "include_colab_link": true
    },
    "kernelspec": {
      "name": "python3",
      "display_name": "Python 3"
    },
    "language_info": {
      "name": "python"
    }
  },
  "cells": [
    {
      "cell_type": "markdown",
      "metadata": {
        "id": "view-in-github",
        "colab_type": "text"
      },
      "source": [
        "<a href=\"https://colab.research.google.com/github/IversonHiarly/IversonSOFTEX/blob/main/Tipos_de_carros.ipynb\" target=\"_parent\"><img src=\"https://colab.research.google.com/assets/colab-badge.svg\" alt=\"Open In Colab\"/></a>"
      ]
    },
    {
      "cell_type": "code",
      "execution_count": 20,
      "metadata": {
        "colab": {
          "base_uri": "https://localhost:8080/"
        },
        "id": "XKMeC67wUpjn",
        "outputId": "d5eba01f-27ac-4d6f-8ea8-3fe75664acf5"
      },
      "outputs": [
        {
          "output_type": "stream",
          "name": "stdout",
          "text": [
            "qual a quantidade de rodas:6\n",
            "o peso é (em kq): 5000\n",
            "a quantidade de pessoas: 7\n",
            " o melhor tipo de carro é o tipo C\n"
          ]
        }
      ],
      "source": [
        "roda = int (input(\"qual a quantidade de rodas:\"))\n",
        "peso = float (input(\"o peso é (em kq): \"))\n",
        "qpessoa = int (input(\"a quantidade de pessoas: \"))\n",
        "if (roda <=1 ) :\n",
        "    print(\"não foi possivel encontar o veiculo\")\n",
        "if(roda > 1) and (roda <= 3) :\n",
        "      print(\" o melhor tipo de carro é o tipo A\")\n",
        "if (roda == 4) and (qpessoa <= 8) and (peso <= 3500):\n",
        "    print(\" o melhor tipo de carro é o tipo B\")\n",
        "if (roda >= 4) and (peso > 3500) and (peso <= 6000):\n",
        "      print(\" o melhor tipo de carro é o tipo C\")\n",
        "if (roda >= 4) and (qpessoa > 8):\n",
        "      print(\" o melhor tipo de carro é o tipo D\")\n",
        "if (roda >= 4) and (peso > 6000):\n",
        "      print(\" o melhor tipo de carro é o tipo E\")"
      ]
    }
  ]
}