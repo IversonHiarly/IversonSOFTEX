{
  "nbformat": 4,
  "nbformat_minor": 0,
  "metadata": {
    "colab": {
      "provenance": [],
      "authorship_tag": "ABX9TyOKC+/VEoLZWVhZNeO4EW7c",
      "include_colab_link": true
    },
    "kernelspec": {
      "name": "python3",
      "display_name": "Python 3"
    },
    "language_info": {
      "name": "python"
    }
  },
  "cells": [
    {
      "cell_type": "markdown",
      "metadata": {
        "id": "view-in-github",
        "colab_type": "text"
      },
      "source": [
        "<a href=\"https://colab.research.google.com/github/IversonHiarly/IversonSOFTEX/blob/main/Urna_Digital.ipynb\" target=\"_parent\"><img src=\"https://colab.research.google.com/assets/colab-badge.svg\" alt=\"Open In Colab\"/></a>"
      ]
    },
    {
      "cell_type": "code",
      "execution_count": 2,
      "metadata": {
        "colab": {
          "base_uri": "https://localhost:8080/"
        },
        "id": "OI82vfd7n86j",
        "outputId": "f272912d-d45d-4b59-9232-e27855831aa6"
      },
      "outputs": [
        {
          "output_type": "stream",
          "name": "stdout",
          "text": [
            "Digite o numero de eleitores: 10\n",
            "Candidato X vote no número 889\n",
            "Candidato Y vote no número 847\n",
            "Candidato Z vote no número 515\n",
            "Para votar em Branco digite 0\n",
            "Informe o número do Candidato que quer votar \n",
            "eleitor 1 quer votar: 0\n",
            "Informe o número do Candidato que quer votar \n",
            "eleitor 2 quer votar: 515\n",
            "Informe o número do Candidato que quer votar \n",
            "eleitor 3 quer votar: 515\n",
            "Informe o número do Candidato que quer votar \n",
            "eleitor 4 quer votar: 515\n",
            "Informe o número do Candidato que quer votar \n",
            "eleitor 5 quer votar: 515\n",
            "Informe o número do Candidato que quer votar \n",
            "eleitor 6 quer votar: 515\n",
            "Informe o número do Candidato que quer votar \n",
            "eleitor 7 quer votar: 889\n",
            "Informe o número do Candidato que quer votar \n",
            "eleitor 8 quer votar: 889\n",
            "Informe o número do Candidato que quer votar \n",
            "eleitor 9 quer votar: 847\n",
            "Informe o número do Candidato que quer votar \n",
            "eleitor 10 quer votar: 889\n",
            "\n",
            "Deseja finalizar a eleição?\n",
            "1 - sim\n",
            "2 - não\n",
            "\n",
            "Opção: 1\n",
            "Votação encerrada\n",
            "Candidato X: 3 voto(s)\n",
            "Candidato Y 1 voto(s)\n",
            "Candidato : 5 voto(s)\n",
            "Votos em Branco: 1 votos(s)\n",
            "\n",
            "O vencedor foi o Candidato Z.\n"
          ]
        }
      ],
      "source": [
        "#Urna Digital\n",
        "\n",
        "\n",
        "candidato_X = 0\n",
        "candidato_Y = 0\n",
        "candidato_Z = 0\n",
        "branco = 0\n",
        "eleicao = False\n",
        "eleitores = int(input(\"Digite o número de eleitores: \"))\n",
        "print ('Candidato X vote no número 889''\\nCandidato Y vote no número 847''\\nCandidato Z vote no número 515''\\nPara votar em Branco digite 0')\n",
        "while eleicao == False:\n",
        "    condicao = False\n",
        "    while eleicao == False:\n",
        "     for i in range(eleitores):\n",
        "      voto = input(\"Digite o número do Candidato que quer votar \"\n",
        "        f\"\\neleitor {i + 1} quer votar: \" )\n",
        "      if voto == \"889\":\n",
        "        candidato_X += 1\n",
        "        eleicao = True\n",
        "      elif voto == \"847\":\n",
        "        candidato_Y += 1\n",
        "        eleicao = True\n",
        "      elif voto == \"515\":\n",
        "        candidato_Z += 1\n",
        "        eleicao = True\n",
        "      elif voto == \"0\":\n",
        "        branco +=1\n",
        "        eleicao = True\n",
        "      else:\n",
        "        print('voto Inválido')\n",
        "    while condicao == False:\n",
        "        try:\n",
        "            print('\\nDeseja finalizar a eleição?''\\n1 - sim''\\n2 - não')\n",
        "            opcao = int(input('\\nOpção: '))\n",
        "            if opcao == 1:\n",
        "                eleicao =  True\n",
        "                condicao = True\n",
        "            elif opcao == 2:\n",
        "                eleicao = False\n",
        "                condicao = True\n",
        "            else:\n",
        "                print('\\nEscolha apenas as opções 1 e 2.')\n",
        "        except:\n",
        "            print('\\nEscolha apenas as opções 1 e 2.')\n",
        "if candidato_X > candidato_Y and candidato_X > candidato_Z:\n",
        "    candidato = 'Candidat X'\n",
        "elif candidato_Y > candidato_X and candidato_Y > candidato_Z:\n",
        "    candidato = 'Candidato y'\n",
        "elif candidato_Z > candidato_X and candidato_Z > candidato_Y:\n",
        "    candidato = 'Candidato Z'\n",
        "else:\n",
        "    candidato = 'Empate'\n",
        "print(\n",
        "    \"Votação encerrada\"\n",
        "    f\"\\nCandidato X: {candidato_X} voto(s)\"\n",
        "    f\"\\nCandidato Y {candidato_Y} voto(s)\"\n",
        "    f\"\\nCandidato Z: {candidato_Z} voto(s)\"\n",
        "    f\"\\nVotos em Branco: {branco} votos(s)\"\n",
        ")\n",
        "if candidato == 'Empate':\n",
        "    print('Aconteceu um empate...')\n",
        "else:\n",
        "    print(f'\\nO vencedor foi o {candidato}.')"
      ]
    }
  ]
}